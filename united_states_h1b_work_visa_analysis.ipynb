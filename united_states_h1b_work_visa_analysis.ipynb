{
 "cells": [
  {
   "cell_type": "markdown",
   "metadata": {},
   "source": [
    "# United States H-1B Work Visas Analysis"
   ]
  },
  {
   "cell_type": "markdown",
   "metadata": {},
   "source": [
    "The aim of this exploratory analysis is to find interesting patterns in the H-1B Labor Condition Application (LCA) process, specifically to learn about which applications get certified or denied and what employers can do to increase their chances of obtaining H-1B work visas for their international employees.   \n",
    "\n",
    "A **case status** is the status of the H-1B application after LCA processing. LCA either certifies or denies the application. Once applications are certified, they are sent to USCIS for H-1B approval. For Further information on the H-1B application process, see this [article](https://redbus2us.com/what-is-h1b-lca-why-file-it-salary-processing-times-dol/).\n",
    "\n",
    "**Inspiration:**\n",
    "\n",
    "1. What are the top 10 occupations for H-1B visas with certified status?\n",
    "2. Which company hires the most data scientists based on H-1B applications?\n",
    "3. What is the average salary for data scientists based on H-1B applications? How does it compare to the average salary of all H-1B applicants? \n",
    "4. Which state has the highest proportion of denied to total H-1B applications? And by state popuplation?\n",
    "5. What industries are in the top 5 percentile of H-1B applications?\n",
    "6. What month is the tipping point for a high rate of denied applications? \n",
    "\n",
    "**Insights from the analysis:**\n",
    "- Applications software developers, computer systems analysts, computer programmers, and other computer occupations topped the list of occupations that received H-1B certified status. Others occupations include management analysts, accountants and auditors, network administators, and financial analysts.\n",
    "- Microsoft hires the most data scientists (40), outpacing Facebook's distant second of 12 hires, and Uber's distant third of 6 hires.\n",
    "- H-1B certified Data Scientists earn an average of \\$88,646 which is 17% more than the average of all H-1B visa applicants, \\$75,735.\n",
    "- The state of Hawaii has the highest rate of H-1B visas denied (13%). This makes sense since Hawaii is mainly a tourist economy and most certified H-1B applications are from the high-tech/computer and Finance industries. \n",
    "- The state of Delaware has the highest rate of H-1B denied by population. Delaware's economy is primarily agriculture, manufacturing, and mining.\n",
    "- 52 industries are in the top 5 percentile of applications. Holding top rank is Computer Programming Services.\n",
    "- H-1B visa applications are more likely to obtain certified status when applied early in the year. A significant number of applications are denied starting from October. \n",
    "\n",
    "**Key take-aways gained from this analysis are:**\n",
    "1. The competition for H-1B visas is very high as there are more applicants (93,533) than visas (80,000). The timeliness of the application submission is critical. To increase their chances of success, employers should submit their H-1B applications before October.\n",
    "2. Good news for H-1B data scientists! They earn 17% more than the average H-1B applicants.\n",
    "3. If you're a data scientist and a non-citizen of the US, apply first to Microsoft, Facebook and Uber."
   ]
  },
  {
   "cell_type": "markdown",
   "metadata": {},
   "source": [
    "# About the data   \n",
    "\n",
    "This project uses three diffferent data sets:\n",
    "- The H-1B dataset used in this project was obtained from [superdatascience.com](superdatascience.com). It is a modified version of the original dataset to simplify the analysis. The original data source can be downloaded from the [United States Department of Labor](https://www.foreignlaborcert.doleta.gov/performancedata.cfm) website.\n",
    "- The dataset containing NAICS (North America Industry Classification System) codes can be downloaded from [data.gov] (https://catalog.data.gov/dataset/north-american-industry-classification-system-naics) website. \n",
    "- The populations of US states was obtained from this [Wikipedia](https://en.wikipedia.org/wiki/List_of_states_and_territories_of_the_United_States_by_population) webpage and stored a csv file."
   ]
  },
  {
   "cell_type": "markdown",
   "metadata": {},
   "source": [
    "# Import Libraries"
   ]
  },
  {
   "cell_type": "code",
   "execution_count": 1,
   "metadata": {
    "collapsed": true
   },
   "outputs": [],
   "source": [
    "# Required packages for analysis\n",
    "import pandas as pd\n",
    "import numpy as np\n",
    "import matplotlib.pyplot as plt\n",
    "import seaborn as sns\n",
    "%matplotlib inline\n",
    "import warnings\n",
    "warnings.filterwarnings('ignore')"
   ]
  },
  {
   "cell_type": "markdown",
   "metadata": {},
   "source": [
    "# Load data"
   ]
  },
  {
   "cell_type": "code",
   "execution_count": 2,
   "metadata": {
    "collapsed": true
   },
   "outputs": [],
   "source": [
    "# Read the H-1B visas dataset\n",
    "visas = pd.read_csv('H-1B disclosure data.csv', encoding='latin1')"
   ]
  },
  {
   "cell_type": "code",
   "execution_count": 3,
   "metadata": {},
   "outputs": [
    {
     "data": {
      "text/plain": [
       "(93533, 15)"
      ]
     },
     "execution_count": 3,
     "metadata": {},
     "output_type": "execute_result"
    }
   ],
   "source": [
    "# Check dimensions of the dataset\n",
    "visas.shape    # verified dataset has 93,533 rows and 15 columns"
   ]
  },
  {
   "cell_type": "markdown",
   "metadata": {},
   "source": [
    "# Explore data"
   ]
  },
  {
   "cell_type": "code",
   "execution_count": 4,
   "metadata": {},
   "outputs": [
    {
     "data": {
      "text/html": [
       "<div>\n",
       "<style>\n",
       "    .dataframe thead tr:only-child th {\n",
       "        text-align: right;\n",
       "    }\n",
       "\n",
       "    .dataframe thead th {\n",
       "        text-align: left;\n",
       "    }\n",
       "\n",
       "    .dataframe tbody tr th {\n",
       "        vertical-align: top;\n",
       "    }\n",
       "</style>\n",
       "<table border=\"1\" class=\"dataframe\">\n",
       "  <thead>\n",
       "    <tr style=\"text-align: right;\">\n",
       "      <th></th>\n",
       "      <th>CASE_NUMBER</th>\n",
       "      <th>CASE_STATUS</th>\n",
       "      <th>CASE_SUBMITTED</th>\n",
       "      <th>DECISION_DATE</th>\n",
       "      <th>VISA_CLASS</th>\n",
       "      <th>EMPLOYMENT_START_DATE</th>\n",
       "      <th>EMPLOYMENT_END_DATE</th>\n",
       "      <th>EMPLOYER_NAME</th>\n",
       "      <th>EMPLOYER_STATE</th>\n",
       "      <th>EMPLOYER_POSTAL_CODE</th>\n",
       "      <th>JOB_TITLE</th>\n",
       "      <th>SOC_CODE</th>\n",
       "      <th>SOC_NAME</th>\n",
       "      <th>NAICS_CODE</th>\n",
       "      <th>PREVAILING_WAGE</th>\n",
       "    </tr>\n",
       "  </thead>\n",
       "  <tbody>\n",
       "    <tr>\n",
       "      <th>0</th>\n",
       "      <td>I-200-09209-039181</td>\n",
       "      <td>CERTIFIED</td>\n",
       "      <td>27-09-16</td>\n",
       "      <td>03-10-16</td>\n",
       "      <td>H-1B</td>\n",
       "      <td>01-10-16</td>\n",
       "      <td>20-09-19</td>\n",
       "      <td>CLOUDWICK TECHNOLOGIES INC.</td>\n",
       "      <td>CA</td>\n",
       "      <td>94560</td>\n",
       "      <td>HADOOP ADMINISTRATOR</td>\n",
       "      <td>15-1132</td>\n",
       "      <td>SOFTWARE DEVELOPERS, APPLICATIONS</td>\n",
       "      <td>541511</td>\n",
       "      <td>102149</td>\n",
       "    </tr>\n",
       "    <tr>\n",
       "      <th>1</th>\n",
       "      <td>I-200-10138-949973</td>\n",
       "      <td>CERTIFIED-WITHDRAWN</td>\n",
       "      <td>11-03-16</td>\n",
       "      <td>28-11-16</td>\n",
       "      <td>H-1B</td>\n",
       "      <td>07-09-16</td>\n",
       "      <td>06-09-19</td>\n",
       "      <td>WEST-CAMP PRESS, INC.</td>\n",
       "      <td>OH</td>\n",
       "      <td>43081</td>\n",
       "      <td>STAFF ACCOUNTANT</td>\n",
       "      <td>13-2011</td>\n",
       "      <td>ACCOUNTANTS AND AUDITORS</td>\n",
       "      <td>323119</td>\n",
       "      <td>45698</td>\n",
       "    </tr>\n",
       "    <tr>\n",
       "      <th>2</th>\n",
       "      <td>I-200-11045-306092</td>\n",
       "      <td>WITHDRAWN</td>\n",
       "      <td>05-12-16</td>\n",
       "      <td>05-12-16</td>\n",
       "      <td>H-1B</td>\n",
       "      <td>12-12-16</td>\n",
       "      <td>30-06-19</td>\n",
       "      <td>FUTURETECH CONSULTANTS, L.L.C</td>\n",
       "      <td>GA</td>\n",
       "      <td>30092</td>\n",
       "      <td>PROGRAMMER ANALYST</td>\n",
       "      <td>15-1131</td>\n",
       "      <td>COMPUTER PROGRAMMERS</td>\n",
       "      <td>541511</td>\n",
       "      <td>60341</td>\n",
       "    </tr>\n",
       "    <tr>\n",
       "      <th>3</th>\n",
       "      <td>I-200-11080-460161</td>\n",
       "      <td>CERTIFIED-WITHDRAWN</td>\n",
       "      <td>03-02-15</td>\n",
       "      <td>31-10-16</td>\n",
       "      <td>H-1B</td>\n",
       "      <td>09-02-15</td>\n",
       "      <td>08-02-18</td>\n",
       "      <td>CONOCOPHILLIPS COMPANY</td>\n",
       "      <td>TX</td>\n",
       "      <td>77079</td>\n",
       "      <td>PETROPHYSICIST</td>\n",
       "      <td>19-4041</td>\n",
       "      <td>GEOLOGICAL AND PETROLEUM TECHNICIANS</td>\n",
       "      <td>324110</td>\n",
       "      <td>65520</td>\n",
       "    </tr>\n",
       "    <tr>\n",
       "      <th>4</th>\n",
       "      <td>I-200-12047-839355</td>\n",
       "      <td>CERTIFIED-WITHDRAWN</td>\n",
       "      <td>27-02-15</td>\n",
       "      <td>07-10-16</td>\n",
       "      <td>H-1B</td>\n",
       "      <td>29-08-15</td>\n",
       "      <td>28-08-18</td>\n",
       "      <td>SUNERA TECHNOLOGIES, INC</td>\n",
       "      <td>MI</td>\n",
       "      <td>48083</td>\n",
       "      <td>PROGRAMMER ANALYST</td>\n",
       "      <td>15-1131</td>\n",
       "      <td>COMPUTER PROGRAMMERS</td>\n",
       "      <td>5415</td>\n",
       "      <td>68578</td>\n",
       "    </tr>\n",
       "  </tbody>\n",
       "</table>\n",
       "</div>"
      ],
      "text/plain": [
       "          CASE_NUMBER          CASE_STATUS CASE_SUBMITTED DECISION_DATE  \\\n",
       "0  I-200-09209-039181            CERTIFIED       27-09-16      03-10-16   \n",
       "1  I-200-10138-949973  CERTIFIED-WITHDRAWN       11-03-16      28-11-16   \n",
       "2  I-200-11045-306092            WITHDRAWN       05-12-16      05-12-16   \n",
       "3  I-200-11080-460161  CERTIFIED-WITHDRAWN       03-02-15      31-10-16   \n",
       "4  I-200-12047-839355  CERTIFIED-WITHDRAWN       27-02-15      07-10-16   \n",
       "\n",
       "  VISA_CLASS EMPLOYMENT_START_DATE EMPLOYMENT_END_DATE  \\\n",
       "0       H-1B              01-10-16            20-09-19   \n",
       "1       H-1B              07-09-16            06-09-19   \n",
       "2       H-1B              12-12-16            30-06-19   \n",
       "3       H-1B              09-02-15            08-02-18   \n",
       "4       H-1B              29-08-15            28-08-18   \n",
       "\n",
       "                   EMPLOYER_NAME EMPLOYER_STATE EMPLOYER_POSTAL_CODE  \\\n",
       "0    CLOUDWICK TECHNOLOGIES INC.             CA                94560   \n",
       "1          WEST-CAMP PRESS, INC.             OH                43081   \n",
       "2  FUTURETECH CONSULTANTS, L.L.C             GA                30092   \n",
       "3         CONOCOPHILLIPS COMPANY             TX                77079   \n",
       "4       SUNERA TECHNOLOGIES, INC             MI                48083   \n",
       "\n",
       "              JOB_TITLE SOC_CODE                              SOC_NAME  \\\n",
       "0  HADOOP ADMINISTRATOR  15-1132     SOFTWARE DEVELOPERS, APPLICATIONS   \n",
       "1      STAFF ACCOUNTANT  13-2011              ACCOUNTANTS AND AUDITORS   \n",
       "2    PROGRAMMER ANALYST  15-1131                  COMPUTER PROGRAMMERS   \n",
       "3        PETROPHYSICIST  19-4041  GEOLOGICAL AND PETROLEUM TECHNICIANS   \n",
       "4    PROGRAMMER ANALYST  15-1131                  COMPUTER PROGRAMMERS   \n",
       "\n",
       "   NAICS_CODE  PREVAILING_WAGE  \n",
       "0      541511           102149  \n",
       "1      323119            45698  \n",
       "2      541511            60341  \n",
       "3      324110            65520  \n",
       "4        5415            68578  "
      ]
     },
     "execution_count": 4,
     "metadata": {},
     "output_type": "execute_result"
    }
   ],
   "source": [
    "visas.head()"
   ]
  },
  {
   "cell_type": "code",
   "execution_count": 5,
   "metadata": {},
   "outputs": [
    {
     "name": "stdout",
     "output_type": "stream",
     "text": [
      "<class 'pandas.core.frame.DataFrame'>\n",
      "RangeIndex: 93533 entries, 0 to 93532\n",
      "Data columns (total 15 columns):\n",
      "CASE_NUMBER              93533 non-null object\n",
      "CASE_STATUS              93533 non-null object\n",
      "CASE_SUBMITTED           93533 non-null object\n",
      "DECISION_DATE            93533 non-null object\n",
      "VISA_CLASS               93533 non-null object\n",
      "EMPLOYMENT_START_DATE    93529 non-null object\n",
      "EMPLOYMENT_END_DATE      93532 non-null object\n",
      "EMPLOYER_NAME            93527 non-null object\n",
      "EMPLOYER_STATE           93528 non-null object\n",
      "EMPLOYER_POSTAL_CODE     93533 non-null object\n",
      "JOB_TITLE                93533 non-null object\n",
      "SOC_CODE                 93533 non-null object\n",
      "SOC_NAME                 93533 non-null object\n",
      "NAICS_CODE               93533 non-null int64\n",
      "PREVAILING_WAGE          93533 non-null int64\n",
      "dtypes: int64(2), object(13)\n",
      "memory usage: 10.7+ MB\n"
     ]
    }
   ],
   "source": [
    "# Show the structure of the dataframe\n",
    "visas.info()"
   ]
  },
  {
   "cell_type": "markdown",
   "metadata": {},
   "source": [
    "The dataframe is pretty clean. It requires some minor data cleaning and we will address the cleaning as we need the data in our analysis.   "
   ]
  },
  {
   "cell_type": "markdown",
   "metadata": {},
   "source": [
    "### 1. What are the top 10 occupations for H-1B visas with certified status?"
   ]
  },
  {
   "cell_type": "code",
   "execution_count": 6,
   "metadata": {},
   "outputs": [
    {
     "name": "stdout",
     "output_type": "stream",
     "text": [
      "number of visa cases : 93533\n",
      "status categories:  ['CERTIFIED' 'CERTIFIED-WITHDRAWN' 'WITHDRAWN' 'DENIED']\n"
     ]
    }
   ],
   "source": [
    "#The number of cases in the visas dataset\n",
    "visa_cases = visas.CASE_NUMBER.count()\n",
    "print(\"number of visa cases :\", visa_cases)\n",
    "\n",
    "# The case status categories\n",
    "status_cat = visas.CASE_STATUS.unique()\n",
    "print(\"status categories: \", status_cat)"
   ]
  },
  {
   "cell_type": "markdown",
   "metadata": {},
   "source": [
    "A **certified status** means that an applicant is eligible to file for a H-1B visa. In this case, we are interested in both certified statuses."
   ]
  },
  {
   "cell_type": "code",
   "execution_count": 7,
   "metadata": {},
   "outputs": [
    {
     "name": "stdout",
     "output_type": "stream",
     "text": [
      "certified visas:  88974\n",
      "distinct occupations:  491\n"
     ]
    }
   ],
   "source": [
    "# Subset just the certified and certified-withdrawn cases\n",
    "certified_visas = visas[(visas.CASE_STATUS == 'CERTIFIED') | (visas.CASE_STATUS == 'CERTIFIED-WITHDRAWN')]\n",
    "\n",
    "# The number of cases in the certified visas dataset\n",
    "cert_visas = certified_visas.CASE_NUMBER.count()\n",
    "print(\"certified visas: \", cert_visas)\n",
    "\n",
    "# The number of different occupations in the certified visas dataset\n",
    "distinct_occ = len(certified_visas.SOC_NAME.unique())\n",
    "print(\"distinct occupations: \", distinct_occ)\n"
   ]
  },
  {
   "cell_type": "markdown",
   "metadata": {},
   "source": [
    "The top 10 occupation with a H-1B certified status:"
   ]
  },
  {
   "cell_type": "code",
   "execution_count": 8,
   "metadata": {},
   "outputs": [
    {
     "data": {
      "text/html": [
       "<div>\n",
       "<style>\n",
       "    .dataframe thead tr:only-child th {\n",
       "        text-align: right;\n",
       "    }\n",
       "\n",
       "    .dataframe thead th {\n",
       "        text-align: left;\n",
       "    }\n",
       "\n",
       "    .dataframe tbody tr th {\n",
       "        vertical-align: top;\n",
       "    }\n",
       "</style>\n",
       "<table border=\"1\" class=\"dataframe\">\n",
       "  <thead>\n",
       "    <tr style=\"text-align: right;\">\n",
       "      <th></th>\n",
       "      <th>SOC_NAME</th>\n",
       "      <th>COUNT</th>\n",
       "    </tr>\n",
       "  </thead>\n",
       "  <tbody>\n",
       "    <tr>\n",
       "      <th>433</th>\n",
       "      <td>SOFTWARE DEVELOPERS, APPLICATIONS</td>\n",
       "      <td>18369</td>\n",
       "    </tr>\n",
       "    <tr>\n",
       "      <th>124</th>\n",
       "      <td>COMPUTER SYSTEMS ANALYSTS</td>\n",
       "      <td>13866</td>\n",
       "    </tr>\n",
       "    <tr>\n",
       "      <th>114</th>\n",
       "      <td>COMPUTER PROGRAMMERS</td>\n",
       "      <td>11005</td>\n",
       "    </tr>\n",
       "    <tr>\n",
       "      <th>108</th>\n",
       "      <td>COMPUTER OCCUPATIONS, ALL OTHER</td>\n",
       "      <td>7133</td>\n",
       "    </tr>\n",
       "    <tr>\n",
       "      <th>123</th>\n",
       "      <td>COMPUTER SYSTEMS ANALYST</td>\n",
       "      <td>3387</td>\n",
       "    </tr>\n",
       "    <tr>\n",
       "      <th>438</th>\n",
       "      <td>SOFTWARE DEVELOPERS, SYSTEMS SOFTWARE</td>\n",
       "      <td>2814</td>\n",
       "    </tr>\n",
       "    <tr>\n",
       "      <th>280</th>\n",
       "      <td>MANAGEMENT ANALYSTS</td>\n",
       "      <td>1784</td>\n",
       "    </tr>\n",
       "    <tr>\n",
       "      <th>2</th>\n",
       "      <td>ACCOUNTANTS AND AUDITORS</td>\n",
       "      <td>1657</td>\n",
       "    </tr>\n",
       "    <tr>\n",
       "      <th>325</th>\n",
       "      <td>NETWORK AND COMPUTER SYSTEMS ADMINISTRATORS</td>\n",
       "      <td>1299</td>\n",
       "    </tr>\n",
       "    <tr>\n",
       "      <th>204</th>\n",
       "      <td>FINANCIAL ANALYSTS</td>\n",
       "      <td>1148</td>\n",
       "    </tr>\n",
       "  </tbody>\n",
       "</table>\n",
       "</div>"
      ],
      "text/plain": [
       "                                        SOC_NAME  COUNT\n",
       "433            SOFTWARE DEVELOPERS, APPLICATIONS  18369\n",
       "124                    COMPUTER SYSTEMS ANALYSTS  13866\n",
       "114                         COMPUTER PROGRAMMERS  11005\n",
       "108              COMPUTER OCCUPATIONS, ALL OTHER   7133\n",
       "123                     COMPUTER SYSTEMS ANALYST   3387\n",
       "438        SOFTWARE DEVELOPERS, SYSTEMS SOFTWARE   2814\n",
       "280                          MANAGEMENT ANALYSTS   1784\n",
       "2                       ACCOUNTANTS AND AUDITORS   1657\n",
       "325  NETWORK AND COMPUTER SYSTEMS ADMINISTRATORS   1299\n",
       "204                           FINANCIAL ANALYSTS   1148"
      ]
     },
     "execution_count": 8,
     "metadata": {},
     "output_type": "execute_result"
    }
   ],
   "source": [
    "# Group, count, and sort \n",
    "top_10_occupation = certified_visas.groupby('SOC_NAME').size().reset_index(name='COUNT').sort_values(by='COUNT', ascending=False)\n",
    "top_10_occupation[:10]"
   ]
  },
  {
   "cell_type": "markdown",
   "metadata": {},
   "source": [
    "Software and computer related occupations rank at the top of the list with management and finance occupations following them. "
   ]
  },
  {
   "cell_type": "markdown",
   "metadata": {},
   "source": [
    "### 2. Which company hires the most data scientists based on H-1B visa applications?\n"
   ]
  },
  {
   "cell_type": "code",
   "execution_count": 10,
   "metadata": {},
   "outputs": [
    {
     "data": {
      "text/html": [
       "<div>\n",
       "<style>\n",
       "    .dataframe thead tr:only-child th {\n",
       "        text-align: right;\n",
       "    }\n",
       "\n",
       "    .dataframe thead th {\n",
       "        text-align: left;\n",
       "    }\n",
       "\n",
       "    .dataframe tbody tr th {\n",
       "        vertical-align: top;\n",
       "    }\n",
       "</style>\n",
       "<table border=\"1\" class=\"dataframe\">\n",
       "  <thead>\n",
       "    <tr style=\"text-align: right;\">\n",
       "      <th></th>\n",
       "      <th>EMPLOYER_NAME</th>\n",
       "      <th>COUNT</th>\n",
       "    </tr>\n",
       "  </thead>\n",
       "  <tbody>\n",
       "    <tr>\n",
       "      <th>47</th>\n",
       "      <td>MICROSOFT CORPORATION</td>\n",
       "      <td>40</td>\n",
       "    </tr>\n",
       "    <tr>\n",
       "      <th>21</th>\n",
       "      <td>FACEBOOK, INC.</td>\n",
       "      <td>12</td>\n",
       "    </tr>\n",
       "    <tr>\n",
       "      <th>77</th>\n",
       "      <td>UBER TECHNOLOGIES, INC.</td>\n",
       "      <td>6</td>\n",
       "    </tr>\n",
       "    <tr>\n",
       "      <th>71</th>\n",
       "      <td>THE NIELSEN COMPANY (US), LLC</td>\n",
       "      <td>4</td>\n",
       "    </tr>\n",
       "  </tbody>\n",
       "</table>\n",
       "</div>"
      ],
      "text/plain": [
       "                    EMPLOYER_NAME  COUNT\n",
       "47          MICROSOFT CORPORATION     40\n",
       "21                 FACEBOOK, INC.     12\n",
       "77        UBER TECHNOLOGIES, INC.      6\n",
       "71  THE NIELSEN COMPANY (US), LLC      4"
      ]
     },
     "execution_count": 10,
     "metadata": {},
     "output_type": "execute_result"
    }
   ],
   "source": [
    "# Subset, group, size, and sort\n",
    "ds_gb_company = visas[visas.JOB_TITLE == 'DATA SCIENTIST'].groupby('EMPLOYER_NAME').size().reset_index(name='COUNT')\n",
    "ds_gb_company = ds_gb_company.sort_values(by='COUNT', ascending=False)\n",
    "ds_gb_company.head()\n",
    "\n",
    "# The company with the most data scientist hires\n",
    "ds_gb_company[:4]"
   ]
  },
  {
   "cell_type": "markdown",
   "metadata": {},
   "source": [
    "Microsoft Coporation hires the most H-1B data scientists by far. In fact, Microsoft hires 3 times as many data scientists as Facebook (runner-up)."
   ]
  },
  {
   "cell_type": "markdown",
   "metadata": {},
   "source": [
    "### 3. What is the average salary for data scientists based on H-1B visa applications? How does it compare to the average salary of all H-1B applicants?\n",
    " "
   ]
  },
  {
   "cell_type": "markdown",
   "metadata": {
    "collapsed": true
   },
   "source": [
    "First, we will find the mean salary for all positions and the mean salary for the data scientists position. Then we will calculate the difference and percent difference to make the comparison."
   ]
  },
  {
   "cell_type": "code",
   "execution_count": 11,
   "metadata": {},
   "outputs": [
    {
     "name": "stdout",
     "output_type": "stream",
     "text": [
      "The average salary for all H-1B positions is $75,735\n",
      "The average salary for H-1B data scientists is $88,646\n",
      "Data Scientists earn on average $12,911 (17.0%) more than the average of all H-1B visa applicants\n"
     ]
    }
   ],
   "source": [
    "# Compute the mean salary for all applications\n",
    "all_positions_salary = visas['PREVAILING_WAGE'].mean()\n",
    "print('The average salary for all H-1B positions is ${:,.0f}'.format(all_positions_salary))\n",
    "\n",
    "# Compute the mean salary for data scientist applications\n",
    "ds_salary = visas['PREVAILING_WAGE'][visas.JOB_TITLE == 'DATA SCIENTIST'].mean()\n",
    "print('The average salary for H-1B data scientists is ${:,.0f}'.format(ds_salary))\n",
    "\n",
    "# Compute the difference and percent difference in salary\n",
    "salary_diff = ds_salary - all_positions_salary\n",
    "salary_percent_diff = (salary_diff / all_positions_salary) *100\n",
    "print('Data Scientists earn on average ${:,.0f} ({:.1f}%) more than the average of all H-1B visa applicants'.format(salary_diff, salary_percent_diff))"
   ]
  },
  {
   "cell_type": "markdown",
   "metadata": {},
   "source": [
    "### 4. Which state has the highest proportion of denied to total H-1B visa applications? By state popuplation?\n"
   ]
  },
  {
   "cell_type": "markdown",
   "metadata": {},
   "source": [
    "The visas dataset does not have data on state population. We will have to read in the state population dataset, create a dataframe to store the calculated fields for visas by state and merge it the visas dataset so that we can calculate the proportion of denied applications by state and by population.  "
   ]
  },
  {
   "cell_type": "code",
   "execution_count": 12,
   "metadata": {},
   "outputs": [
    {
     "name": "stdout",
     "output_type": "stream",
     "text": [
      "number of cases denied:  1369\n"
     ]
    }
   ],
   "source": [
    "# Get the number of denied cases\n",
    "denied_apps = visas['CASE_STATUS'][visas.CASE_STATUS == 'DENIED'].count()\n",
    "print(\"number of cases denied: \", denied_apps)"
   ]
  },
  {
   "cell_type": "markdown",
   "metadata": {},
   "source": [
    "Let's read-in the states population dataset:"
   ]
  },
  {
   "cell_type": "code",
   "execution_count": 13,
   "metadata": {},
   "outputs": [
    {
     "name": "stdout",
     "output_type": "stream",
     "text": [
      "dataset size:  (50, 3)\n"
     ]
    },
    {
     "data": {
      "text/html": [
       "<div>\n",
       "<style>\n",
       "    .dataframe thead tr:only-child th {\n",
       "        text-align: right;\n",
       "    }\n",
       "\n",
       "    .dataframe thead th {\n",
       "        text-align: left;\n",
       "    }\n",
       "\n",
       "    .dataframe tbody tr th {\n",
       "        vertical-align: top;\n",
       "    }\n",
       "</style>\n",
       "<table border=\"1\" class=\"dataframe\">\n",
       "  <thead>\n",
       "    <tr style=\"text-align: right;\">\n",
       "      <th></th>\n",
       "      <th>State abbreviation</th>\n",
       "      <th>State</th>\n",
       "      <th>Population estimate</th>\n",
       "    </tr>\n",
       "  </thead>\n",
       "  <tbody>\n",
       "    <tr>\n",
       "      <th>0</th>\n",
       "      <td>CA</td>\n",
       "      <td>California</td>\n",
       "      <td>39250017</td>\n",
       "    </tr>\n",
       "    <tr>\n",
       "      <th>1</th>\n",
       "      <td>TX</td>\n",
       "      <td>Texas</td>\n",
       "      <td>27862596</td>\n",
       "    </tr>\n",
       "    <tr>\n",
       "      <th>2</th>\n",
       "      <td>FL</td>\n",
       "      <td>Florida</td>\n",
       "      <td>20612439</td>\n",
       "    </tr>\n",
       "    <tr>\n",
       "      <th>3</th>\n",
       "      <td>NY</td>\n",
       "      <td>New York</td>\n",
       "      <td>19745289</td>\n",
       "    </tr>\n",
       "    <tr>\n",
       "      <th>4</th>\n",
       "      <td>PA</td>\n",
       "      <td>Pennsylvania</td>\n",
       "      <td>12802503</td>\n",
       "    </tr>\n",
       "  </tbody>\n",
       "</table>\n",
       "</div>"
      ],
      "text/plain": [
       "  State abbreviation          State  Population estimate\n",
       "0                 CA     California             39250017\n",
       "1                 TX          Texas             27862596\n",
       "2                 FL        Florida             20612439\n",
       "3                 NY       New York             19745289\n",
       "4                 PA   Pennsylvania             12802503"
      ]
     },
     "execution_count": 13,
     "metadata": {},
     "output_type": "execute_result"
    }
   ],
   "source": [
    "# Read the states dataset\n",
    "states = pd.read_csv('states population.csv')\n",
    "\n",
    "# Check the number of states in the dataset\n",
    "#states.shape    # verified dataset has 50 rows and 3 columns\n",
    "print(\"dataset size: \",states.shape ) # verified dataset has 50 rows and 3 columns\n",
    "states.head()"
   ]
  },
  {
   "cell_type": "markdown",
   "metadata": {},
   "source": [
    "Create a new dataframe to store all the numbers needed to perform the calculation:"
   ]
  },
  {
   "cell_type": "code",
   "execution_count": 14,
   "metadata": {},
   "outputs": [
    {
     "data": {
      "text/html": [
       "<div>\n",
       "<style>\n",
       "    .dataframe thead tr:only-child th {\n",
       "        text-align: right;\n",
       "    }\n",
       "\n",
       "    .dataframe thead th {\n",
       "        text-align: left;\n",
       "    }\n",
       "\n",
       "    .dataframe tbody tr th {\n",
       "        vertical-align: top;\n",
       "    }\n",
       "</style>\n",
       "<table border=\"1\" class=\"dataframe\">\n",
       "  <thead>\n",
       "    <tr style=\"text-align: right;\">\n",
       "      <th></th>\n",
       "      <th>state</th>\n",
       "      <th>denied</th>\n",
       "      <th>applicants</th>\n",
       "      <th>population</th>\n",
       "      <th>denied_by_application</th>\n",
       "      <th>denied_by_population</th>\n",
       "    </tr>\n",
       "    <tr>\n",
       "      <th>state</th>\n",
       "      <th></th>\n",
       "      <th></th>\n",
       "      <th></th>\n",
       "      <th></th>\n",
       "      <th></th>\n",
       "      <th></th>\n",
       "    </tr>\n",
       "  </thead>\n",
       "  <tbody>\n",
       "    <tr>\n",
       "      <th>CA</th>\n",
       "      <td>CA</td>\n",
       "      <td>257.0</td>\n",
       "      <td>15293.0</td>\n",
       "      <td>39250017.0</td>\n",
       "      <td>0.016805</td>\n",
       "      <td>0.000007</td>\n",
       "    </tr>\n",
       "    <tr>\n",
       "      <th>TX</th>\n",
       "      <td>TX</td>\n",
       "      <td>106.0</td>\n",
       "      <td>12090.0</td>\n",
       "      <td>27862596.0</td>\n",
       "      <td>0.008768</td>\n",
       "      <td>0.000004</td>\n",
       "    </tr>\n",
       "    <tr>\n",
       "      <th>FL</th>\n",
       "      <td>FL</td>\n",
       "      <td>74.0</td>\n",
       "      <td>3025.0</td>\n",
       "      <td>20612439.0</td>\n",
       "      <td>0.024463</td>\n",
       "      <td>0.000004</td>\n",
       "    </tr>\n",
       "    <tr>\n",
       "      <th>NY</th>\n",
       "      <td>NY</td>\n",
       "      <td>164.0</td>\n",
       "      <td>6606.0</td>\n",
       "      <td>19745289.0</td>\n",
       "      <td>0.024826</td>\n",
       "      <td>0.000008</td>\n",
       "    </tr>\n",
       "    <tr>\n",
       "      <th>PA</th>\n",
       "      <td>PA</td>\n",
       "      <td>77.0</td>\n",
       "      <td>3704.0</td>\n",
       "      <td>12802503.0</td>\n",
       "      <td>0.020788</td>\n",
       "      <td>0.000006</td>\n",
       "    </tr>\n",
       "  </tbody>\n",
       "</table>\n",
       "</div>"
      ],
      "text/plain": [
       "      state  denied  applicants  population  denied_by_application  \\\n",
       "state                                                                \n",
       "CA       CA   257.0     15293.0  39250017.0               0.016805   \n",
       "TX       TX   106.0     12090.0  27862596.0               0.008768   \n",
       "FL       FL    74.0      3025.0  20612439.0               0.024463   \n",
       "NY       NY   164.0      6606.0  19745289.0               0.024826   \n",
       "PA       PA    77.0      3704.0  12802503.0               0.020788   \n",
       "\n",
       "       denied_by_population  \n",
       "state                        \n",
       "CA                 0.000007  \n",
       "TX                 0.000004  \n",
       "FL                 0.000004  \n",
       "NY                 0.000008  \n",
       "PA                 0.000006  "
      ]
     },
     "execution_count": 14,
     "metadata": {},
     "output_type": "execute_result"
    }
   ],
   "source": [
    "# Create a new dataframe with the states values\n",
    "visas_by_state = pd.DataFrame(states['State abbreviation'].unique())   \n",
    "visas_by_state.columns = ['state']\n",
    "\n",
    "# Create three more columns filled with zeros\n",
    "visas_by_state['denied'] = np.zeros(len(visas_by_state))\n",
    "visas_by_state['applicants'] = np.zeros(len(visas_by_state))\n",
    "visas_by_state['population'] = np.zeros(len(visas_by_state))\n",
    "\n",
    "# Set the index to use the states as row labels\n",
    "visas_by_state.set_index(visas_by_state.state, inplace=True, drop=True)\n",
    "\n",
    "# Show the new dataframe\n",
    "# visas_by_state.head()\n",
    "\n",
    "# Fill the new dataframe with the calculated values that we need:\n",
    "for st in visas_by_state.state:\n",
    "    \n",
    "    # fill the number of denied visas by state\n",
    "    visas_by_state.loc[st, 'denied'] = len(visas[(visas.CASE_STATUS == 'DENIED') & (visas.EMPLOYER_STATE == st)])\n",
    "    \n",
    "    # fill the number of applicants by state\n",
    "    visas_by_state.loc[st, 'applicants'] = len(visas[visas.EMPLOYER_STATE == st])\n",
    "    \n",
    "    # fill the population by state\n",
    "    visas_by_state.loc[st, 'population'] = states[states['State abbreviation'] == st]['Population estimate'].sum()\n",
    "\n",
    "\n",
    "# Create two additional columns to represent the proportion of denied by applications and by population\n",
    "visas_by_state['denied_by_application'] = np.divide(visas_by_state.denied, visas_by_state.applicants)\n",
    "visas_by_state['denied_by_population'] = np.divide(visas_by_state.denied, visas_by_state.population)\n",
    "\n",
    "visas_by_state.head()\n",
    "    "
   ]
  },
  {
   "cell_type": "markdown",
   "metadata": {},
   "source": [
    "Now, let's merge the visa-by-state and 'states' dataset:"
   ]
  },
  {
   "cell_type": "code",
   "execution_count": 15,
   "metadata": {},
   "outputs": [
    {
     "data": {
      "text/html": [
       "<div>\n",
       "<style>\n",
       "    .dataframe thead tr:only-child th {\n",
       "        text-align: right;\n",
       "    }\n",
       "\n",
       "    .dataframe thead th {\n",
       "        text-align: left;\n",
       "    }\n",
       "\n",
       "    .dataframe tbody tr th {\n",
       "        vertical-align: top;\n",
       "    }\n",
       "</style>\n",
       "<table border=\"1\" class=\"dataframe\">\n",
       "  <thead>\n",
       "    <tr style=\"text-align: right;\">\n",
       "      <th></th>\n",
       "      <th>state</th>\n",
       "      <th>denied</th>\n",
       "      <th>applicants</th>\n",
       "      <th>population</th>\n",
       "      <th>denied_by_application</th>\n",
       "      <th>denied_by_population</th>\n",
       "      <th>State abbreviation</th>\n",
       "      <th>State</th>\n",
       "      <th>Population estimate</th>\n",
       "    </tr>\n",
       "  </thead>\n",
       "  <tbody>\n",
       "    <tr>\n",
       "      <th>0</th>\n",
       "      <td>CA</td>\n",
       "      <td>257.0</td>\n",
       "      <td>15293.0</td>\n",
       "      <td>39250017.0</td>\n",
       "      <td>0.016805</td>\n",
       "      <td>0.000007</td>\n",
       "      <td>CA</td>\n",
       "      <td>California</td>\n",
       "      <td>39250017</td>\n",
       "    </tr>\n",
       "    <tr>\n",
       "      <th>1</th>\n",
       "      <td>TX</td>\n",
       "      <td>106.0</td>\n",
       "      <td>12090.0</td>\n",
       "      <td>27862596.0</td>\n",
       "      <td>0.008768</td>\n",
       "      <td>0.000004</td>\n",
       "      <td>TX</td>\n",
       "      <td>Texas</td>\n",
       "      <td>27862596</td>\n",
       "    </tr>\n",
       "    <tr>\n",
       "      <th>2</th>\n",
       "      <td>FL</td>\n",
       "      <td>74.0</td>\n",
       "      <td>3025.0</td>\n",
       "      <td>20612439.0</td>\n",
       "      <td>0.024463</td>\n",
       "      <td>0.000004</td>\n",
       "      <td>FL</td>\n",
       "      <td>Florida</td>\n",
       "      <td>20612439</td>\n",
       "    </tr>\n",
       "    <tr>\n",
       "      <th>3</th>\n",
       "      <td>NY</td>\n",
       "      <td>164.0</td>\n",
       "      <td>6606.0</td>\n",
       "      <td>19745289.0</td>\n",
       "      <td>0.024826</td>\n",
       "      <td>0.000008</td>\n",
       "      <td>NY</td>\n",
       "      <td>New York</td>\n",
       "      <td>19745289</td>\n",
       "    </tr>\n",
       "    <tr>\n",
       "      <th>4</th>\n",
       "      <td>PA</td>\n",
       "      <td>77.0</td>\n",
       "      <td>3704.0</td>\n",
       "      <td>12802503.0</td>\n",
       "      <td>0.020788</td>\n",
       "      <td>0.000006</td>\n",
       "      <td>PA</td>\n",
       "      <td>Pennsylvania</td>\n",
       "      <td>12802503</td>\n",
       "    </tr>\n",
       "  </tbody>\n",
       "</table>\n",
       "</div>"
      ],
      "text/plain": [
       "  state  denied  applicants  population  denied_by_application  \\\n",
       "0    CA   257.0     15293.0  39250017.0               0.016805   \n",
       "1    TX   106.0     12090.0  27862596.0               0.008768   \n",
       "2    FL    74.0      3025.0  20612439.0               0.024463   \n",
       "3    NY   164.0      6606.0  19745289.0               0.024826   \n",
       "4    PA    77.0      3704.0  12802503.0               0.020788   \n",
       "\n",
       "   denied_by_population State abbreviation          State  Population estimate  \n",
       "0              0.000007                 CA     California             39250017  \n",
       "1              0.000004                 TX          Texas             27862596  \n",
       "2              0.000004                 FL        Florida             20612439  \n",
       "3              0.000008                 NY       New York             19745289  \n",
       "4              0.000006                 PA   Pennsylvania             12802503  "
      ]
     },
     "execution_count": 15,
     "metadata": {},
     "output_type": "execute_result"
    }
   ],
   "source": [
    "# Merge the datasets\n",
    "visas_by_state = pd.merge(visas_by_state, states, left_on='state', right_on='State abbreviation')\n",
    "\n",
    "# Explore the merged dataframe\n",
    "visas_by_state.head()"
   ]
  },
  {
   "cell_type": "markdown",
   "metadata": {},
   "source": [
    "We are now ready to answer the two questions:"
   ]
  },
  {
   "cell_type": "code",
   "execution_count": 16,
   "metadata": {},
   "outputs": [
    {
     "data": {
      "text/html": [
       "<div>\n",
       "<style>\n",
       "    .dataframe thead tr:only-child th {\n",
       "        text-align: right;\n",
       "    }\n",
       "\n",
       "    .dataframe thead th {\n",
       "        text-align: left;\n",
       "    }\n",
       "\n",
       "    .dataframe tbody tr th {\n",
       "        vertical-align: top;\n",
       "    }\n",
       "</style>\n",
       "<table border=\"1\" class=\"dataframe\">\n",
       "  <thead>\n",
       "    <tr style=\"text-align: right;\">\n",
       "      <th></th>\n",
       "      <th>State</th>\n",
       "      <th>State abbreviation</th>\n",
       "      <th>denied_by_application</th>\n",
       "    </tr>\n",
       "  </thead>\n",
       "  <tbody>\n",
       "    <tr>\n",
       "      <th>39</th>\n",
       "      <td>Hawaii</td>\n",
       "      <td>HI</td>\n",
       "      <td>0.130435</td>\n",
       "    </tr>\n",
       "  </tbody>\n",
       "</table>\n",
       "</div>"
      ],
      "text/plain": [
       "      State State abbreviation  denied_by_application\n",
       "39   Hawaii                 HI               0.130435"
      ]
     },
     "execution_count": 16,
     "metadata": {},
     "output_type": "execute_result"
    }
   ],
   "source": [
    "# Show the state with the highest rate of denied visas by application\n",
    "highest_denied_by_app = visas_by_state[['State', 'State abbreviation', 'denied_by_application']].sort_values(by='denied_by_application', ascending=False) \n",
    "highest_denied_by_app[:1]"
   ]
  },
  {
   "cell_type": "markdown",
   "metadata": {},
   "source": [
    "Hawaii is the state with the highest rate of denied H-1B applications (13%). This makes sense since Hawaii is mainly a tourism industry and most certified H-1B applications are from the high-tech/computer and Finance. "
   ]
  },
  {
   "cell_type": "code",
   "execution_count": 17,
   "metadata": {},
   "outputs": [
    {
     "data": {
      "text/html": [
       "<div>\n",
       "<style>\n",
       "    .dataframe thead tr:only-child th {\n",
       "        text-align: right;\n",
       "    }\n",
       "\n",
       "    .dataframe thead th {\n",
       "        text-align: left;\n",
       "    }\n",
       "\n",
       "    .dataframe tbody tr th {\n",
       "        vertical-align: top;\n",
       "    }\n",
       "</style>\n",
       "<table border=\"1\" class=\"dataframe\">\n",
       "  <thead>\n",
       "    <tr style=\"text-align: right;\">\n",
       "      <th></th>\n",
       "      <th>State</th>\n",
       "      <th>State abbreviation</th>\n",
       "      <th>denied_by_population</th>\n",
       "    </tr>\n",
       "  </thead>\n",
       "  <tbody>\n",
       "    <tr>\n",
       "      <th>44</th>\n",
       "      <td>Delaware</td>\n",
       "      <td>DE</td>\n",
       "      <td>0.000013</td>\n",
       "    </tr>\n",
       "  </tbody>\n",
       "</table>\n",
       "</div>"
      ],
      "text/plain": [
       "        State State abbreviation  denied_by_population\n",
       "44   Delaware                 DE              0.000013"
      ]
     },
     "execution_count": 17,
     "metadata": {},
     "output_type": "execute_result"
    }
   ],
   "source": [
    "# Show the state with the highest rate of denied visas by population\n",
    "highest_denied_by_pop = visas_by_state[['State', 'State abbreviation', 'denied_by_population']].sort_values(by='denied_by_population', ascending=False) \n",
    "highest_denied_by_pop[:1]"
   ]
  },
  {
   "cell_type": "markdown",
   "metadata": {},
   "source": [
    "Delaware is the state with the highest rate of H-1B denied by population. Research shows the ecomomy of Delaware consists of the primary industry (such as agriculture, manufacturing, and mining) and the services industry (such as Finance, Insurance, and Real-estate). These two sectors employ occumpations that do not rank very high in the top occupations list for H-1B visas."
   ]
  },
  {
   "cell_type": "markdown",
   "metadata": {},
   "source": [
    "### 5. What industries are in the top 5 percentile of H-1B visa applications?\n"
   ]
  },
  {
   "cell_type": "markdown",
   "metadata": {},
   "source": [
    "Although the visas dataset does contain the NAICS code for each application, it does not have the corrresponding description of the code. We will read the NAICS dataset and merge its NAICS tittles to the visas dataset.  "
   ]
  },
  {
   "cell_type": "code",
   "execution_count": 19,
   "metadata": {},
   "outputs": [
    {
     "name": "stdout",
     "output_type": "stream",
     "text": [
      "dataset dim:  (4673, 3)\n"
     ]
    },
    {
     "data": {
      "text/html": [
       "<div>\n",
       "<style>\n",
       "    .dataframe thead tr:only-child th {\n",
       "        text-align: right;\n",
       "    }\n",
       "\n",
       "    .dataframe thead th {\n",
       "        text-align: left;\n",
       "    }\n",
       "\n",
       "    .dataframe tbody tr th {\n",
       "        vertical-align: top;\n",
       "    }\n",
       "</style>\n",
       "<table border=\"1\" class=\"dataframe\">\n",
       "  <thead>\n",
       "    <tr style=\"text-align: right;\">\n",
       "      <th></th>\n",
       "      <th>NAICS Code</th>\n",
       "      <th>NAICS Title</th>\n",
       "      <th>Unnamed: 2</th>\n",
       "    </tr>\n",
       "  </thead>\n",
       "  <tbody>\n",
       "    <tr>\n",
       "      <th>0</th>\n",
       "      <td>11</td>\n",
       "      <td>Agriculture, Forestry, Fishing and Hunting</td>\n",
       "      <td>NaN</td>\n",
       "    </tr>\n",
       "    <tr>\n",
       "      <th>1</th>\n",
       "      <td>21</td>\n",
       "      <td>Mining, Quarrying, and Oil and Gas Extraction</td>\n",
       "      <td>NaN</td>\n",
       "    </tr>\n",
       "    <tr>\n",
       "      <th>2</th>\n",
       "      <td>22</td>\n",
       "      <td>Utilities</td>\n",
       "      <td>NaN</td>\n",
       "    </tr>\n",
       "    <tr>\n",
       "      <th>3</th>\n",
       "      <td>23</td>\n",
       "      <td>Construction</td>\n",
       "      <td>NaN</td>\n",
       "    </tr>\n",
       "    <tr>\n",
       "      <th>4</th>\n",
       "      <td>42</td>\n",
       "      <td>Wholesale Trade</td>\n",
       "      <td>NaN</td>\n",
       "    </tr>\n",
       "  </tbody>\n",
       "</table>\n",
       "</div>"
      ],
      "text/plain": [
       "   NAICS Code                                    NAICS Title Unnamed: 2\n",
       "0          11     Agriculture, Forestry, Fishing and Hunting        NaN\n",
       "1          21  Mining, Quarrying, and Oil and Gas Extraction        NaN\n",
       "2          22                                      Utilities        NaN\n",
       "3          23                                   Construction        NaN\n",
       "4          42                                Wholesale Trade        NaN"
      ]
     },
     "execution_count": 19,
     "metadata": {},
     "output_type": "execute_result"
    }
   ],
   "source": [
    "# Read the NAICS dataset\n",
    "naics = pd.read_csv('naics codes.csv', encoding='latin1')\n",
    "\n",
    "# Check dimensions of the dataset\n",
    "print(\"dataset dim: \", naics.shape)    # verified dataset has 4673 rows and 3 columns\n",
    "\n",
    "# Explore the dataset\n",
    "naics.head()"
   ]
  },
  {
   "cell_type": "markdown",
   "metadata": {},
   "source": [
    "The naics code dataset needs some cleaning."
   ]
  },
  {
   "cell_type": "code",
   "execution_count": 20,
   "metadata": {
    "collapsed": true
   },
   "outputs": [],
   "source": [
    "# Remove the last column with NaN values\n",
    "naics.drop('Unnamed: 2', axis=1, inplace=True)\n",
    "\n",
    "# Rename the columns\n",
    "naics.columns = ['NAICS_CODE', 'NAICS_TITLE']"
   ]
  },
  {
   "cell_type": "code",
   "execution_count": 21,
   "metadata": {},
   "outputs": [
    {
     "data": {
      "text/html": [
       "<div>\n",
       "<style>\n",
       "    .dataframe thead tr:only-child th {\n",
       "        text-align: right;\n",
       "    }\n",
       "\n",
       "    .dataframe thead th {\n",
       "        text-align: left;\n",
       "    }\n",
       "\n",
       "    .dataframe tbody tr th {\n",
       "        vertical-align: top;\n",
       "    }\n",
       "</style>\n",
       "<table border=\"1\" class=\"dataframe\">\n",
       "  <thead>\n",
       "    <tr style=\"text-align: right;\">\n",
       "      <th></th>\n",
       "      <th>NAICS_CODE</th>\n",
       "      <th>COUNT</th>\n",
       "    </tr>\n",
       "  </thead>\n",
       "  <tbody>\n",
       "    <tr>\n",
       "      <th>1219</th>\n",
       "      <td>113310</td>\n",
       "      <td>4</td>\n",
       "    </tr>\n",
       "    <tr>\n",
       "      <th>1926</th>\n",
       "      <td>441320</td>\n",
       "      <td>4</td>\n",
       "    </tr>\n",
       "    <tr>\n",
       "      <th>1911</th>\n",
       "      <td>424920</td>\n",
       "      <td>4</td>\n",
       "    </tr>\n",
       "    <tr>\n",
       "      <th>1912</th>\n",
       "      <td>424930</td>\n",
       "      <td>4</td>\n",
       "    </tr>\n",
       "    <tr>\n",
       "      <th>1914</th>\n",
       "      <td>424950</td>\n",
       "      <td>4</td>\n",
       "    </tr>\n",
       "  </tbody>\n",
       "</table>\n",
       "</div>"
      ],
      "text/plain": [
       "      NAICS_CODE  COUNT\n",
       "1219      113310      4\n",
       "1926      441320      4\n",
       "1911      424920      4\n",
       "1912      424930      4\n",
       "1914      424950      4"
      ]
     },
     "execution_count": 21,
     "metadata": {},
     "output_type": "execute_result"
    }
   ],
   "source": [
    "# Investigate if there duplicates in the dataset\n",
    "naics.groupby('NAICS_CODE').size().reset_index(name='COUNT').sort_values(by='COUNT', ascending=False).head()"
   ]
  },
  {
   "cell_type": "code",
   "execution_count": 22,
   "metadata": {},
   "outputs": [
    {
     "data": {
      "text/html": [
       "<div>\n",
       "<style>\n",
       "    .dataframe thead tr:only-child th {\n",
       "        text-align: right;\n",
       "    }\n",
       "\n",
       "    .dataframe thead th {\n",
       "        text-align: left;\n",
       "    }\n",
       "\n",
       "    .dataframe tbody tr th {\n",
       "        vertical-align: top;\n",
       "    }\n",
       "</style>\n",
       "<table border=\"1\" class=\"dataframe\">\n",
       "  <thead>\n",
       "    <tr style=\"text-align: right;\">\n",
       "      <th></th>\n",
       "      <th>NAICS_CODE</th>\n",
       "      <th>Count</th>\n",
       "    </tr>\n",
       "  </thead>\n",
       "  <tbody>\n",
       "    <tr>\n",
       "      <th>0</th>\n",
       "      <td>11</td>\n",
       "      <td>1</td>\n",
       "    </tr>\n",
       "    <tr>\n",
       "      <th>1629</th>\n",
       "      <td>332322</td>\n",
       "      <td>1</td>\n",
       "    </tr>\n",
       "    <tr>\n",
       "      <th>1622</th>\n",
       "      <td>332214</td>\n",
       "      <td>1</td>\n",
       "    </tr>\n",
       "    <tr>\n",
       "      <th>1623</th>\n",
       "      <td>332215</td>\n",
       "      <td>1</td>\n",
       "    </tr>\n",
       "    <tr>\n",
       "      <th>1624</th>\n",
       "      <td>332216</td>\n",
       "      <td>1</td>\n",
       "    </tr>\n",
       "  </tbody>\n",
       "</table>\n",
       "</div>"
      ],
      "text/plain": [
       "      NAICS_CODE  Count\n",
       "0             11      1\n",
       "1629      332322      1\n",
       "1622      332214      1\n",
       "1623      332215      1\n",
       "1624      332216      1"
      ]
     },
     "execution_count": 22,
     "metadata": {},
     "output_type": "execute_result"
    }
   ],
   "source": [
    "# Drop the duplicates, but leave one of each\n",
    "naics.drop_duplicates(subset=['NAICS_CODE'], keep='first', inplace=True)\n",
    "\n",
    "# Reset the index\n",
    "naics.groupby('NAICS_CODE').size().reset_index(name='Count').sort_values(by='Count', ascending=False).head()"
   ]
  },
  {
   "cell_type": "markdown",
   "metadata": {},
   "source": [
    "The naics code dataset is ready to be merged with the visas dataset:"
   ]
  },
  {
   "cell_type": "code",
   "execution_count": 23,
   "metadata": {},
   "outputs": [
    {
     "data": {
      "text/html": [
       "<div>\n",
       "<style>\n",
       "    .dataframe thead tr:only-child th {\n",
       "        text-align: right;\n",
       "    }\n",
       "\n",
       "    .dataframe thead th {\n",
       "        text-align: left;\n",
       "    }\n",
       "\n",
       "    .dataframe tbody tr th {\n",
       "        vertical-align: top;\n",
       "    }\n",
       "</style>\n",
       "<table border=\"1\" class=\"dataframe\">\n",
       "  <thead>\n",
       "    <tr style=\"text-align: right;\">\n",
       "      <th></th>\n",
       "      <th>NAICS_TITLE</th>\n",
       "      <th>COUNT</th>\n",
       "    </tr>\n",
       "  </thead>\n",
       "  <tbody>\n",
       "    <tr>\n",
       "      <th>234</th>\n",
       "      <td>Custom Computer Programming Services</td>\n",
       "      <td>31941</td>\n",
       "    </tr>\n",
       "    <tr>\n",
       "      <th>201</th>\n",
       "      <td>Computer Systems Design and Related Services</td>\n",
       "      <td>6742</td>\n",
       "    </tr>\n",
       "    <tr>\n",
       "      <th>200</th>\n",
       "      <td>Computer Systems Design Services</td>\n",
       "      <td>5311</td>\n",
       "    </tr>\n",
       "    <tr>\n",
       "      <th>180</th>\n",
       "      <td>Colleges, Universities, and Professional Schools</td>\n",
       "      <td>5100</td>\n",
       "    </tr>\n",
       "    <tr>\n",
       "      <th>499</th>\n",
       "      <td>Management, Scientific, and Technical Consulti...</td>\n",
       "      <td>3689</td>\n",
       "    </tr>\n",
       "  </tbody>\n",
       "</table>\n",
       "</div>"
      ],
      "text/plain": [
       "                                           NAICS_TITLE  COUNT\n",
       "234              Custom Computer Programming Services   31941\n",
       "201       Computer Systems Design and Related Services   6742\n",
       "200                  Computer Systems Design Services    5311\n",
       "180  Colleges, Universities, and Professional Schools    5100\n",
       "499  Management, Scientific, and Technical Consulti...   3689"
      ]
     },
     "execution_count": 23,
     "metadata": {},
     "output_type": "execute_result"
    }
   ],
   "source": [
    "# Merge visas and naics datasets\n",
    "visas_by_industry = pd.merge(visas, naics, on='NAICS_CODE')\n",
    "\n",
    "# Explore the merged dataset\n",
    "visas_by_industry\n",
    "\n",
    "# Group the visas by industry\n",
    "visas_gr_by_industry = visas_by_industry.groupby('NAICS_TITLE').size().reset_index(name='COUNT').sort_values(by='COUNT', ascending=False)\n",
    "visas_gr_by_industry.head()"
   ]
  },
  {
   "cell_type": "markdown",
   "metadata": {},
   "source": [
    "Let's find out the industries in the top 5 percentile of H-1B visa applications:"
   ]
  },
  {
   "cell_type": "code",
   "execution_count": 32,
   "metadata": {},
   "outputs": [
    {
     "name": "stdout",
     "output_type": "stream",
     "text": [
      "Number of industries in the 95th percentile:  154\n",
      "Number of industries in the to 5 percentile:  52\n",
      "\n",
      " Industries in the top 5 percentile: \n"
     ]
    },
    {
     "data": {
      "text/html": [
       "<div>\n",
       "<style>\n",
       "    .dataframe thead tr:only-child th {\n",
       "        text-align: right;\n",
       "    }\n",
       "\n",
       "    .dataframe thead th {\n",
       "        text-align: left;\n",
       "    }\n",
       "\n",
       "    .dataframe tbody tr th {\n",
       "        vertical-align: top;\n",
       "    }\n",
       "</style>\n",
       "<table border=\"1\" class=\"dataframe\">\n",
       "  <thead>\n",
       "    <tr style=\"text-align: right;\">\n",
       "      <th></th>\n",
       "      <th>NAICS_TITLE</th>\n",
       "      <th>COUNT</th>\n",
       "    </tr>\n",
       "  </thead>\n",
       "  <tbody>\n",
       "    <tr>\n",
       "      <th>234</th>\n",
       "      <td>Custom Computer Programming Services</td>\n",
       "      <td>31941</td>\n",
       "    </tr>\n",
       "    <tr>\n",
       "      <th>201</th>\n",
       "      <td>Computer Systems Design and Related Services</td>\n",
       "      <td>6742</td>\n",
       "    </tr>\n",
       "    <tr>\n",
       "      <th>200</th>\n",
       "      <td>Computer Systems Design Services</td>\n",
       "      <td>5311</td>\n",
       "    </tr>\n",
       "    <tr>\n",
       "      <th>180</th>\n",
       "      <td>Colleges, Universities, and Professional Schools</td>\n",
       "      <td>5100</td>\n",
       "    </tr>\n",
       "    <tr>\n",
       "      <th>499</th>\n",
       "      <td>Management, Scientific, and Technical Consulti...</td>\n",
       "      <td>3689</td>\n",
       "    </tr>\n",
       "    <tr>\n",
       "      <th>902</th>\n",
       "      <td>Software Publishers</td>\n",
       "      <td>2640</td>\n",
       "    </tr>\n",
       "    <tr>\n",
       "      <th>654</th>\n",
       "      <td>Other Computer Related Services</td>\n",
       "      <td>1855</td>\n",
       "    </tr>\n",
       "    <tr>\n",
       "      <th>597</th>\n",
       "      <td>Offices of Certified Public Accountants</td>\n",
       "      <td>1476</td>\n",
       "    </tr>\n",
       "    <tr>\n",
       "      <th>298</th>\n",
       "      <td>Engineering Services</td>\n",
       "      <td>1406</td>\n",
       "    </tr>\n",
       "    <tr>\n",
       "      <th>12</th>\n",
       "      <td>Administrative Management and General Manageme...</td>\n",
       "      <td>1270</td>\n",
       "    </tr>\n",
       "    <tr>\n",
       "      <th>285</th>\n",
       "      <td>Electronic Shopping</td>\n",
       "      <td>1254</td>\n",
       "    </tr>\n",
       "    <tr>\n",
       "      <th>449</th>\n",
       "      <td>Investment Banking and Securities Dealing</td>\n",
       "      <td>1088</td>\n",
       "    </tr>\n",
       "    <tr>\n",
       "      <th>497</th>\n",
       "      <td>Management Consulting Services</td>\n",
       "      <td>1082</td>\n",
       "    </tr>\n",
       "    <tr>\n",
       "      <th>871</th>\n",
       "      <td>Scientific Research and Development Services</td>\n",
       "      <td>1053</td>\n",
       "    </tr>\n",
       "    <tr>\n",
       "      <th>373</th>\n",
       "      <td>General Medical and Surgical Hospitals</td>\n",
       "      <td>1048</td>\n",
       "    </tr>\n",
       "    <tr>\n",
       "      <th>242</th>\n",
       "      <td>Data Processing, Hosting, and Related Services</td>\n",
       "      <td>1041</td>\n",
       "    </tr>\n",
       "    <tr>\n",
       "      <th>0</th>\n",
       "      <td>Accounting, Tax Preparation, Bookkeeping, and ...</td>\n",
       "      <td>777</td>\n",
       "    </tr>\n",
       "    <tr>\n",
       "      <th>283</th>\n",
       "      <td>Electronic Computer Manufacturing</td>\n",
       "      <td>768</td>\n",
       "    </tr>\n",
       "    <tr>\n",
       "      <th>882</th>\n",
       "      <td>Semiconductor and Other Electronic Component M...</td>\n",
       "      <td>598</td>\n",
       "    </tr>\n",
       "    <tr>\n",
       "      <th>183</th>\n",
       "      <td>Commercial Banking</td>\n",
       "      <td>582</td>\n",
       "    </tr>\n",
       "    <tr>\n",
       "      <th>611</th>\n",
       "      <td>Offices of Physicians (except Mental Health Sp...</td>\n",
       "      <td>474</td>\n",
       "    </tr>\n",
       "    <tr>\n",
       "      <th>227</th>\n",
       "      <td>Credit Card Issuing</td>\n",
       "      <td>462</td>\n",
       "    </tr>\n",
       "    <tr>\n",
       "      <th>607</th>\n",
       "      <td>Offices of Other Holding Companies</td>\n",
       "      <td>448</td>\n",
       "    </tr>\n",
       "    <tr>\n",
       "      <th>290</th>\n",
       "      <td>Elementary and Secondary Schools</td>\n",
       "      <td>446</td>\n",
       "    </tr>\n",
       "    <tr>\n",
       "      <th>789</th>\n",
       "      <td>Portfolio Management</td>\n",
       "      <td>441</td>\n",
       "    </tr>\n",
       "    <tr>\n",
       "      <th>318</th>\n",
       "      <td>Financial Transactions Processing, Reserve, an...</td>\n",
       "      <td>440</td>\n",
       "    </tr>\n",
       "    <tr>\n",
       "      <th>883</th>\n",
       "      <td>Semiconductor and Related Device Manufacturing</td>\n",
       "      <td>404</td>\n",
       "    </tr>\n",
       "    <tr>\n",
       "      <th>66</th>\n",
       "      <td>All Other Professional, Scientific, and Techni...</td>\n",
       "      <td>376</td>\n",
       "    </tr>\n",
       "    <tr>\n",
       "      <th>826</th>\n",
       "      <td>Radio and Television Broadcasting and Wireless...</td>\n",
       "      <td>370</td>\n",
       "    </tr>\n",
       "    <tr>\n",
       "      <th>253</th>\n",
       "      <td>Direct Health and Medical Insurance Carriers</td>\n",
       "      <td>333</td>\n",
       "    </tr>\n",
       "    <tr>\n",
       "      <th>717</th>\n",
       "      <td>Other Scientific and Technical Consulting Serv...</td>\n",
       "      <td>315</td>\n",
       "    </tr>\n",
       "    <tr>\n",
       "      <th>503</th>\n",
       "      <td>Marketing Consulting Services</td>\n",
       "      <td>314</td>\n",
       "    </tr>\n",
       "    <tr>\n",
       "      <th>849</th>\n",
       "      <td>Research and Development in the Physical, Engi...</td>\n",
       "      <td>304</td>\n",
       "    </tr>\n",
       "    <tr>\n",
       "      <th>959</th>\n",
       "      <td>Temporary Help Services</td>\n",
       "      <td>298</td>\n",
       "    </tr>\n",
       "    <tr>\n",
       "      <th>609</th>\n",
       "      <td>Offices of Physical, Occupational and Speech T...</td>\n",
       "      <td>265</td>\n",
       "    </tr>\n",
       "    <tr>\n",
       "      <th>106</th>\n",
       "      <td>Automobile Manufacturing</td>\n",
       "      <td>234</td>\n",
       "    </tr>\n",
       "    <tr>\n",
       "      <th>13</th>\n",
       "      <td>Advertising Agencies</td>\n",
       "      <td>231</td>\n",
       "    </tr>\n",
       "    <tr>\n",
       "      <th>689</th>\n",
       "      <td>Other Information Services</td>\n",
       "      <td>206</td>\n",
       "    </tr>\n",
       "    <tr>\n",
       "      <th>282</th>\n",
       "      <td>Electronic Auctions</td>\n",
       "      <td>205</td>\n",
       "    </tr>\n",
       "    <tr>\n",
       "      <th>41</th>\n",
       "      <td>All Other Information Services</td>\n",
       "      <td>203</td>\n",
       "    </tr>\n",
       "    <tr>\n",
       "      <th>179</th>\n",
       "      <td>Colleges, Universities, and Professional Schools</td>\n",
       "      <td>198</td>\n",
       "    </tr>\n",
       "    <tr>\n",
       "      <th>695</th>\n",
       "      <td>Other Management Consulting Services</td>\n",
       "      <td>187</td>\n",
       "    </tr>\n",
       "    <tr>\n",
       "      <th>448</th>\n",
       "      <td>Investment Advice</td>\n",
       "      <td>185</td>\n",
       "    </tr>\n",
       "    <tr>\n",
       "      <th>602</th>\n",
       "      <td>Offices of Lawyers</td>\n",
       "      <td>182</td>\n",
       "    </tr>\n",
       "    <tr>\n",
       "      <th>848</th>\n",
       "      <td>Research and Development in the Physical, Engi...</td>\n",
       "      <td>174</td>\n",
       "    </tr>\n",
       "    <tr>\n",
       "      <th>913</th>\n",
       "      <td>Specialty (except Psychiatric and Substance Ab...</td>\n",
       "      <td>173</td>\n",
       "    </tr>\n",
       "    <tr>\n",
       "      <th>767</th>\n",
       "      <td>Pharmacies and Drug Stores</td>\n",
       "      <td>172</td>\n",
       "    </tr>\n",
       "    <tr>\n",
       "      <th>847</th>\n",
       "      <td>Research and Development in Biotechnology</td>\n",
       "      <td>169</td>\n",
       "    </tr>\n",
       "    <tr>\n",
       "      <th>258</th>\n",
       "      <td>Direct Property and Casualty Insurance Carriers</td>\n",
       "      <td>164</td>\n",
       "    </tr>\n",
       "    <tr>\n",
       "      <th>531</th>\n",
       "      <td>Miscellaneous Financial Investment Activities</td>\n",
       "      <td>161</td>\n",
       "    </tr>\n",
       "    <tr>\n",
       "      <th>261</th>\n",
       "      <td>Discount Department Stores</td>\n",
       "      <td>157</td>\n",
       "    </tr>\n",
       "    <tr>\n",
       "      <th>588</th>\n",
       "      <td>Office Administrative Services</td>\n",
       "      <td>155</td>\n",
       "    </tr>\n",
       "  </tbody>\n",
       "</table>\n",
       "</div>"
      ],
      "text/plain": [
       "                                           NAICS_TITLE  COUNT\n",
       "234              Custom Computer Programming Services   31941\n",
       "201       Computer Systems Design and Related Services   6742\n",
       "200                  Computer Systems Design Services    5311\n",
       "180  Colleges, Universities, and Professional Schools    5100\n",
       "499  Management, Scientific, and Technical Consulti...   3689\n",
       "902                                Software Publishers   2640\n",
       "654                    Other Computer Related Services   1855\n",
       "597           Offices of Certified Public Accountants    1476\n",
       "298                               Engineering Services   1406\n",
       "12   Administrative Management and General Manageme...   1270\n",
       "285                               Electronic Shopping    1254\n",
       "449         Investment Banking and Securities Dealing    1088\n",
       "497                     Management Consulting Services   1082\n",
       "871       Scientific Research and Development Services   1053\n",
       "373            General Medical and Surgical Hospitals    1048\n",
       "242     Data Processing, Hosting, and Related Services   1041\n",
       "0    Accounting, Tax Preparation, Bookkeeping, and ...    777\n",
       "283                 Electronic Computer Manufacturing     768\n",
       "882  Semiconductor and Other Electronic Component M...    598\n",
       "183                                Commercial Banking     582\n",
       "611  Offices of Physicians (except Mental Health Sp...    474\n",
       "227                               Credit Card Issuing     462\n",
       "607                Offices of Other Holding Companies     448\n",
       "290                  Elementary and Secondary Schools     446\n",
       "789                              Portfolio Management     441\n",
       "318  Financial Transactions Processing, Reserve, an...    440\n",
       "883    Semiconductor and Related Device Manufacturing     404\n",
       "66   All Other Professional, Scientific, and Techni...    376\n",
       "826  Radio and Television Broadcasting and Wireless...    370\n",
       "253      Direct Health and Medical Insurance Carriers     333\n",
       "717  Other Scientific and Technical Consulting Serv...    315\n",
       "503                     Marketing Consulting Services     314\n",
       "849  Research and Development in the Physical, Engi...    304\n",
       "959                            Temporary Help Services    298\n",
       "609  Offices of Physical, Occupational and Speech T...    265\n",
       "106                          Automobile Manufacturing     234\n",
       "13                                Advertising Agencies    231\n",
       "689                         Other Information Services    206\n",
       "282                               Electronic Auctions     205\n",
       "41                      All Other Information Services    203\n",
       "179   Colleges, Universities, and Professional Schools    198\n",
       "695              Other Management Consulting Services     187\n",
       "448                                 Investment Advice     185\n",
       "602                                 Offices of Lawyers    182\n",
       "848  Research and Development in the Physical, Engi...    174\n",
       "913  Specialty (except Psychiatric and Substance Ab...    173\n",
       "767                        Pharmacies and Drug Stores     172\n",
       "847         Research and Development in Biotechnology     169\n",
       "258   Direct Property and Casualty Insurance Carriers     164\n",
       "531     Miscellaneous Financial Investment Activities     161\n",
       "261                        Discount Department Stores     157\n",
       "588                     Office Administrative Services    155"
      ]
     },
     "execution_count": 32,
     "metadata": {},
     "output_type": "execute_result"
    }
   ],
   "source": [
    "# Compute the 95th percentile\n",
    "the_95_percentile = np.percentile(a=visas_gr_by_industry.COUNT, q=95)\n",
    "\n",
    "# Filter just the top 5 percentile of industries\n",
    "top_5_percentile = visas_gr_by_industry[visas_gr_by_industry.COUNT >= the_95_percentile]\n",
    "top_5_percentile\n",
    "\n",
    "print(\"Number of industries in the 95th percentile: \", int(the_95_percentile))\n",
    "print(\"Number of industries in the to 5 percentile: \",len(top_5_percentile))\n",
    "print(\"\\n Industries in the top 5 percentile: \")\n",
    "top_5_percentile"
   ]
  },
  {
   "cell_type": "markdown",
   "metadata": {},
   "source": [
    "There are a  total of 52 industries in the top 5 percentile of all H-1B visa applications. Holding top rank is Computer Programming Services with 31,941 applications. It outpaced Computer Systems Design and Related Services by 50.7%."
   ]
  },
  {
   "cell_type": "markdown",
   "metadata": {},
   "source": [
    "### 6. What month is the tipping point for a high rate of denied applications?"
   ]
  },
  {
   "cell_type": "code",
   "execution_count": 36,
   "metadata": {},
   "outputs": [
    {
     "data": {
      "text/html": [
       "<div>\n",
       "<style>\n",
       "    .dataframe thead tr:only-child th {\n",
       "        text-align: right;\n",
       "    }\n",
       "\n",
       "    .dataframe thead th {\n",
       "        text-align: left;\n",
       "    }\n",
       "\n",
       "    .dataframe tbody tr th {\n",
       "        vertical-align: top;\n",
       "    }\n",
       "</style>\n",
       "<table border=\"1\" class=\"dataframe\">\n",
       "  <thead>\n",
       "    <tr style=\"text-align: right;\">\n",
       "      <th></th>\n",
       "      <th>CASE_NUMBER</th>\n",
       "      <th>CASE_SUBMITTED</th>\n",
       "      <th>DECISION_DATE</th>\n",
       "      <th>Month_submitted</th>\n",
       "      <th>Month_decision</th>\n",
       "    </tr>\n",
       "  </thead>\n",
       "  <tbody>\n",
       "    <tr>\n",
       "      <th>1881</th>\n",
       "      <td>I-200-14311-284928</td>\n",
       "      <td>20-12-16</td>\n",
       "      <td>22-12-16</td>\n",
       "      <td>12</td>\n",
       "      <td>12</td>\n",
       "    </tr>\n",
       "    <tr>\n",
       "      <th>2533</th>\n",
       "      <td>I-200-15060-565396</td>\n",
       "      <td>29-09-16</td>\n",
       "      <td>03-10-16</td>\n",
       "      <td>9</td>\n",
       "      <td>3</td>\n",
       "    </tr>\n",
       "    <tr>\n",
       "      <th>3556</th>\n",
       "      <td>I-200-15139-183403</td>\n",
       "      <td>05-10-16</td>\n",
       "      <td>07-10-16</td>\n",
       "      <td>5</td>\n",
       "      <td>7</td>\n",
       "    </tr>\n",
       "    <tr>\n",
       "      <th>4179</th>\n",
       "      <td>I-200-15251-717050</td>\n",
       "      <td>12-12-16</td>\n",
       "      <td>14-12-16</td>\n",
       "      <td>12</td>\n",
       "      <td>12</td>\n",
       "    </tr>\n",
       "    <tr>\n",
       "      <th>6754</th>\n",
       "      <td>I-200-16075-799719</td>\n",
       "      <td>15-11-16</td>\n",
       "      <td>17-11-16</td>\n",
       "      <td>11</td>\n",
       "      <td>11</td>\n",
       "    </tr>\n",
       "  </tbody>\n",
       "</table>\n",
       "</div>"
      ],
      "text/plain": [
       "             CASE_NUMBER CASE_SUBMITTED DECISION_DATE  Month_submitted  \\\n",
       "1881  I-200-14311-284928       20-12-16      22-12-16               12   \n",
       "2533  I-200-15060-565396       29-09-16      03-10-16                9   \n",
       "3556  I-200-15139-183403       05-10-16      07-10-16                5   \n",
       "4179  I-200-15251-717050       12-12-16      14-12-16               12   \n",
       "6754  I-200-16075-799719       15-11-16      17-11-16               11   \n",
       "\n",
       "      Month_decision  \n",
       "1881              12  \n",
       "2533               3  \n",
       "3556               7  \n",
       "4179              12  \n",
       "6754              11  "
      ]
     },
     "execution_count": 36,
     "metadata": {},
     "output_type": "execute_result"
    }
   ],
   "source": [
    "# Filter just the dates of denied visas\n",
    "denied_visas = visas[['CASE_NUMBER','CASE_SUBMITTED', 'DECISION_DATE']][visas.CASE_STATUS == 'DENIED']\n",
    "\n",
    "# Extract the month from both dates\n",
    "denied_visas['Month_submitted'] =  pd.DatetimeIndex( denied_visas.CASE_SUBMITTED).month\n",
    "denied_visas['Month_decision'] =  pd.DatetimeIndex( denied_visas.DECISION_DATE).month\n",
    "\n",
    "# Explore the denied_visas dataset\n",
    "denied_visas.head()"
   ]
  },
  {
   "cell_type": "code",
   "execution_count": 37,
   "metadata": {},
   "outputs": [
    {
     "data": {
      "text/plain": [
       "<function matplotlib.pyplot.show>"
      ]
     },
     "execution_count": 37,
     "metadata": {},
     "output_type": "execute_result"
    },
    {
     "data": {
      "image/png": "[encoded data removed]",
      "text/plain": [
       "<matplotlib.figure.Figure at 0x21eaaec9550>"
      ]
     },
     "metadata": {},
     "output_type": "display_data"
    }
   ],
   "source": [
    "# Group by month of submitted dates\n",
    "denied_visas_gr_by_month_sub = denied_visas.groupby('Month_submitted').size().reset_index(name='Denied_Count')\n",
    "denied_visas_gr_by_month_sub = denied_visas_gr_by_month_sub.sort_values(by='Month_submitted', ascending=False)  \n",
    "\n",
    "# Plot visas denied grouped by month submitted dates\n",
    "sns.barplot(x='Denied_Count', y='Month_submitted', data=denied_visas_gr_by_month_sub, \n",
    "            order=denied_visas_gr_by_month_sub.Month_submitted, orient='h')\n",
    "plt.show"
   ]
  },
  {
   "cell_type": "markdown",
   "metadata": {},
   "source": [
    "It appears when you submit your H-1B visa application influences likely your application will be denied. The data show H-1B applications submitted in the last three months of the year will be much more likely to be denied. This makes sense since the USCIS has a cap on H-1B issuance each year. For more information on H1-B process, go to this [link](https://www.immi-usa.com/h1b-application-process-step-by-step-guide/).   \n"
   ]
  },
  {
   "cell_type": "markdown",
   "metadata": {},
   "source": [
    "# Conclusion"
   ]
  },
  {
   "cell_type": "markdown",
   "metadata": {},
   "source": [
    "With a thriving economy in the US, many companies are petitioning H-1B working visas for their foreign national workers. This exploratory analysis uncovered insightful facts and trends about the H-1B visa applications:\n",
    "\n",
    "- The majority of the H-1B certified applications went to applicants working in the the High-Tech/Computer industry.\n",
    "- By far, Microsoft hires the most data scientists (40) whic is 3X more hires than Facebook (runner-up).\n",
    "- Data scientists earn an average of \\$88,646 which is 17% more than the average of all applicants.\n",
    "- The state of Hawaii has highest rate of denied H-1B applications (13 percent) while the state of Delaware has the highest rate of H-1B denied by population. \n",
    "- 52 industries are in the top 5 percentile of applications. Holding top rank is Computer Programming Services with 31,941 H-1B visa applications. \n",
    "- The month of H1-B application submission plays a role on how likely the application will be denied. Applications are more likey to get certified when submitted early in the year. They are likely to be denied starting from October.  \n",
    "\n",
    "The key insight gained from this analysis is the timeliness of application submission. This piece of information is very useful to employers. To increase their chances of success, employers should submit their H-1B visa applications as early as possible in the year. A denied application means that the foreign national workers cannot start working for the company. This would have a huge impact on the business bottomline."
   ]
  }
 ],
 "metadata": {
  "kernelspec": {
   "display_name": "Python 3",
   "language": "python",
   "name": "python3"
  },
  "language_info": {
   "codemirror_mode": {
    "name": "ipython",
    "version": 3
   },
   "file_extension": ".py",
   "mimetype": "text/x-python",
   "name": "python",
   "nbconvert_exporter": "python",
   "pygments_lexer": "ipython3",
   "version": "3.6.7"
  }
 },
 "nbformat": 4,
 "nbformat_minor": 2
}
